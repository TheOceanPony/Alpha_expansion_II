{
 "cells": [
  {
   "cell_type": "markdown",
   "metadata": {},
   "source": [
    "# Lab 2 Alpha-expansion"
   ]
  },
  {
   "cell_type": "code",
   "execution_count": 1,
   "metadata": {},
   "outputs": [],
   "source": [
    "import copy\n",
    "import numpy as np\n",
    "\n",
    "from numpy.random import shuffle\n",
    "from numba import njit\n",
    "import matplotlib.pyplot as plt\n",
    "from tqdm import tqdm\n",
    "\n",
    "import funcs as f\n",
    "import utils as utl"
   ]
  },
  {
   "cell_type": "code",
   "execution_count": 2,
   "metadata": {},
   "outputs": [],
   "source": [
    "from time import time\n",
    "start = time()"
   ]
  },
  {
   "cell_type": "markdown",
   "metadata": {},
   "source": [
    "---"
   ]
  },
  {
   "cell_type": "code",
   "execution_count": 3,
   "metadata": {
    "scrolled": true
   },
   "outputs": [
    {
     "name": "stdout",
     "output_type": "stream",
     "text": [
      "Input size:  (32, 32)\n",
      "dtype: uint8 | max: 223 | min: 42\n"
     ]
    },
    {
     "data": {
      "image/png": "[encoded data removed]",
      "text/plain": [
       "<Figure size 432x288 with 1 Axes>"
      ]
     },
     "metadata": {
      "needs_background": "light"
     },
     "output_type": "display_data"
    }
   ],
   "source": [
    "C = np.array([1, 128, 255])\n",
    "repeats = 5\n",
    "shape=(32,32)\n",
    "img = utl.import_img(\"input.png\", bw=True, newshape=shape)"
   ]
  },
  {
   "cell_type": "markdown",
   "metadata": {},
   "source": [
    "# Main"
   ]
  },
  {
   "cell_type": "code",
   "execution_count": 4,
   "metadata": {},
   "outputs": [
    {
     "data": {
      "text/plain": [
       "<matplotlib.image.AxesImage at 0x124a9f96ac0>"
      ]
     },
     "execution_count": 4,
     "metadata": {},
     "output_type": "execute_result"
    },
    {
     "data": {
      "image/png": "[encoded data removed]",
      "text/plain": [
       "<Figure size 432x288 with 1 Axes>"
      ]
     },
     "metadata": {
      "needs_background": "light"
     },
     "output_type": "display_data"
    }
   ],
   "source": [
    "labeling = f.initial_labeling(img, C)\n",
    "plt.imshow(np.reshape(labeling, shape), cmap='gray')"
   ]
  },
  {
   "cell_type": "code",
   "execution_count": 5,
   "metadata": {},
   "outputs": [],
   "source": [
    "@njit\n",
    "def indicator(k, k_, scale):\n",
    "    if k != k_:\n",
    "        return scale\n",
    "    else:\n",
    "        return 0\n",
    "\n",
    "@njit\n",
    "def init_g2(img,  labeling, a_i, scale=40):\n",
    "    \n",
    "    h,w = img.shape[:2]\n",
    "    img = img.flatten()\n",
    "    g = np.zeros((h*w + 2, h*w + 2), dtype = np.int32)\n",
    "    \n",
    "    g[0, 1:-1] = np.abs( a_i - img)\n",
    "    g[1:-1, -1] = np.abs( labeling - img)\n",
    "    \n",
    "    for i in range(h):\n",
    "        for j in range(w):\n",
    "            index = j + i*w + 1\n",
    "            #print(index)\n",
    "            # left\n",
    "            if j > 0:\n",
    "                left_index = j - 1 + i*w + 1\n",
    "                g[left_index, index] = indicator( labeling[left_index-1], labeling[index-1], scale )\n",
    "            # right\n",
    "            if j < w - 1:\n",
    "                right_index = j + 1 + i*w + 1\n",
    "                g[right_index, index] = indicator( labeling[right_index-1], labeling[index-1], scale )\n",
    "             # up\n",
    "            if i > 0:\n",
    "                up_index = j + (i-1)*w + 1\n",
    "                g[up_index, index] = indicator( labeling[up_index-1], labeling[index-1], scale )\n",
    "            # down\n",
    "            if i < h - 1:\n",
    "                down_index = j + (i+1)*w + 1\n",
    "                g[down_index, index] = indicator( labeling[down_index-1], labeling[index-1], scale )\n",
    "    return g"
   ]
  },
  {
   "cell_type": "code",
   "execution_count": 6,
   "metadata": {},
   "outputs": [
    {
     "name": "stderr",
     "output_type": "stream",
     "text": [
      "  0%|                                                                                            | 0/5 [00:02<?, ?it/s]\n"
     ]
    },
    {
     "ename": "ValueError",
     "evalue": "unable to broadcast argument 1 to output array\nFile \"<ipython-input-5-4db5fa1c6049>\", line 1, ",
     "output_type": "error",
     "traceback": [
      "\u001b[1;31m---------------------------------------------------------------------------\u001b[0m",
      "\u001b[1;31mValueError\u001b[0m                                Traceback (most recent call last)",
      "\u001b[1;32m<ipython-input-6-06a8f9d1a39c>\u001b[0m in \u001b[0;36m<module>\u001b[1;34m\u001b[0m\n\u001b[0;32m     12\u001b[0m \u001b[1;33m\u001b[0m\u001b[0m\n\u001b[0;32m     13\u001b[0m         \u001b[1;31m# 3) init new graph\u001b[0m\u001b[1;33m\u001b[0m\u001b[1;33m\u001b[0m\u001b[1;33m\u001b[0m\u001b[0m\n\u001b[1;32m---> 14\u001b[1;33m         \u001b[0mg\u001b[0m \u001b[1;33m=\u001b[0m \u001b[0minit_g2\u001b[0m\u001b[1;33m(\u001b[0m\u001b[0mimg\u001b[0m\u001b[1;33m,\u001b[0m \u001b[0mk_init\u001b[0m\u001b[1;33m,\u001b[0m \u001b[0ma_i\u001b[0m\u001b[1;33m,\u001b[0m \u001b[0mscale\u001b[0m\u001b[1;33m=\u001b[0m\u001b[1;36m40\u001b[0m\u001b[1;33m)\u001b[0m\u001b[1;33m\u001b[0m\u001b[1;33m\u001b[0m\u001b[0m\n\u001b[0m\u001b[0;32m     15\u001b[0m \u001b[1;33m\u001b[0m\u001b[0m\n\u001b[0;32m     16\u001b[0m         \u001b[1;31m# 4) solve for new binary task\u001b[0m\u001b[1;33m\u001b[0m\u001b[1;33m\u001b[0m\u001b[1;33m\u001b[0m\u001b[0m\n",
      "\u001b[1;31mValueError\u001b[0m: unable to broadcast argument 1 to output array\nFile \"<ipython-input-5-4db5fa1c6049>\", line 1, "
     ]
    }
   ],
   "source": [
    "for iteration in tqdm(range(repeats)):\n",
    "    a_shuffle = np.copy(C)\n",
    "    shuffle(a_shuffle)\n",
    "    \n",
    "    for i in range(C.size):\n",
    "\n",
    "        # 1) alpha_i\n",
    "        a_i = a_shuffle[i]\n",
    "\n",
    "        # 2) initial labeling\n",
    "        k_init = labeling\n",
    "\n",
    "        # 3) init new graph\n",
    "        g = init_g2(img, k_init, a_i, scale=40)\n",
    "\n",
    "        # 4) solve for new binary task\n",
    "        res = f.Ford_Falkerson(img, g)\n",
    "        labeling = f.translate_to_labeling(res, k_init, a_i)"
   ]
  },
  {
   "cell_type": "code",
   "execution_count": null,
   "metadata": {},
   "outputs": [],
   "source": [
    "plt.imshow(np.reshape(res, shape), cmap='gray')"
   ]
  },
  {
   "cell_type": "code",
   "execution_count": null,
   "metadata": {},
   "outputs": [],
   "source": [
    "g"
   ]
  },
  {
   "cell_type": "code",
   "execution_count": null,
   "metadata": {},
   "outputs": [],
   "source": [
    "print(f\"Time: {time() - start}\")\n",
    "plt.subplots(figsize=(10, 10))\n",
    "plt.imshow(np.reshape(labeling, shape), cmap='gray')"
   ]
  },
  {
   "cell_type": "markdown",
   "metadata": {},
   "source": [
    "---"
   ]
  }
 ],
 "metadata": {
  "kernelspec": {
   "display_name": "Python 3",
   "language": "python",
   "name": "python3"
  },
  "language_info": {
   "codemirror_mode": {
    "name": "ipython",
    "version": 3
   },
   "file_extension": ".py",
   "mimetype": "text/x-python",
   "name": "python",
   "nbconvert_exporter": "python",
   "pygments_lexer": "ipython3",
   "version": "3.8.0"
  }
 },
 "nbformat": 4,
 "nbformat_minor": 4
}
