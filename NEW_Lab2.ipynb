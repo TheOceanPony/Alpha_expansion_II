{
 "cells": [
  {
   "cell_type": "code",
   "execution_count": 1,
   "metadata": {},
   "outputs": [],
   "source": [
    "import copy\n",
    "import numpy as np\n",
    "\n",
    "from numpy.random import shuffle\n",
    "from numba import njit\n",
    "import matplotlib.pyplot as plt\n",
    "from tqdm import tqdm\n",
    "\n",
    "import funcs as f\n",
    "import utils as utl"
   ]
  },
  {
   "cell_type": "code",
   "execution_count": 2,
   "metadata": {},
   "outputs": [],
   "source": [
    "@njit\n",
    "def indicator(k, k_, scale):\n",
    "    if k != k_:\n",
    "        return scale\n",
    "    else:\n",
    "        return 0"
   ]
  },
  {
   "cell_type": "code",
   "execution_count": 3,
   "metadata": {},
   "outputs": [],
   "source": [
    "#@njit\n",
    "def init_g2(img, labeling, a_i, scale):\n",
    "    h, w = img.shape[:2]\n",
    "    img = img.flatten()\n",
    "\n",
    "    g = np.zeros((h*w + 2, h*w + 2), dtype = np.int32)\n",
    "\n",
    "    g[0, 1:-1] = np.abs( a_i - img)\n",
    "    g[1:-1, -1] = np.abs( labeling - img)\n",
    "\n",
    "    for i in range(h):\n",
    "        for j in range(w):\n",
    "            index = j + i*w + 1\n",
    "            # left\n",
    "            if j > 0:\n",
    "                left = j - 1 + i*w + 1\n",
    "                g[index, left] = indicator( labeling[index-1], labeling[left-1], scale )\n",
    "            # right\n",
    "            if j < w - 1:\n",
    "                right = j + 1 + i*w + 1\n",
    "                g[index, right] = indicator( labeling[index-1], labeling[right-1], scale )\n",
    "            # up\n",
    "            if i > 0:\n",
    "                up = j + (i-1)*w + 1\n",
    "                g[index, up] = indicator( labeling[index-1], labeling[up-1], scale )\n",
    "            # down\n",
    "            if i < h - 1:\n",
    "                down = j + (i+1)*w + 1\n",
    "                g[index, down] = indicator( labeling[index-1], labeling[down-1], scale )\n",
    "                \n",
    "    return g"
   ]
  },
  {
   "cell_type": "code",
   "execution_count": 4,
   "metadata": {},
   "outputs": [
    {
     "name": "stdout",
     "output_type": "stream",
     "text": [
      "Input size:  (16, 16)\n",
      "dtype: uint8 | max: 216 | min: 46\n"
     ]
    },
    {
     "data": {
      "image/png": "[encoded data removed]",
      "text/plain": [
       "<Figure size 432x288 with 1 Axes>"
      ]
     },
     "metadata": {
      "needs_background": "light"
     },
     "output_type": "display_data"
    }
   ],
   "source": [
    "C = np.array([1, 128, 255])\n",
    "repeats = 1\n",
    "shape = (16,16)\n",
    "img = utl.import_img(\"input.png\", bw=True, newshape=shape)"
   ]
  },
  {
   "cell_type": "markdown",
   "metadata": {},
   "source": [
    "---"
   ]
  },
  {
   "cell_type": "markdown",
   "metadata": {},
   "source": [
    "## Main"
   ]
  },
  {
   "cell_type": "code",
   "execution_count": 5,
   "metadata": {},
   "outputs": [
    {
     "data": {
      "text/plain": [
       "<matplotlib.image.AxesImage at 0x210290f8f40>"
      ]
     },
     "execution_count": 5,
     "metadata": {},
     "output_type": "execute_result"
    },
    {
     "data": {
      "image/png": "[encoded data removed]",
      "text/plain": [
       "<Figure size 432x288 with 1 Axes>"
      ]
     },
     "metadata": {
      "needs_background": "light"
     },
     "output_type": "display_data"
    }
   ],
   "source": [
    "# Initial labeling\n",
    "k_init = f.initial_labeling(img, C)\n",
    "plt.imshow(np.reshape(k_init, shape), cmap='gray')"
   ]
  },
  {
   "cell_type": "markdown",
   "metadata": {},
   "source": [
    "plt.subplots(figsize=(20, 20))\n",
    "plt.imshow(g, cmap='gray')"
   ]
  },
  {
   "cell_type": "code",
   "execution_count": 6,
   "metadata": {},
   "outputs": [
    {
     "data": {
      "text/plain": [
       "255"
      ]
     },
     "execution_count": 6,
     "metadata": {},
     "output_type": "execute_result"
    }
   ],
   "source": [
    "a_shuffle = np.copy(C)\n",
    "shuffle(a_shuffle)\n",
    "a_i = a_shuffle[0]\n",
    "a_i"
   ]
  },
  {
   "cell_type": "code",
   "execution_count": 7,
   "metadata": {},
   "outputs": [],
   "source": [
    "labeling = k_init\n",
    "g = init_g2(img, labeling, a_i, scale=100)"
   ]
  },
  {
   "cell_type": "code",
   "execution_count": 8,
   "metadata": {},
   "outputs": [
    {
     "data": {
      "text/plain": [
       "<matplotlib.image.AxesImage at 0x210291dcd60>"
      ]
     },
     "execution_count": 8,
     "metadata": {},
     "output_type": "execute_result"
    },
    {
     "data": {
      "image/png": "[encoded data removed]",
      "text/plain": [
       "<Figure size 432x288 with 1 Axes>"
      ]
     },
     "metadata": {
      "needs_background": "light"
     },
     "output_type": "display_data"
    }
   ],
   "source": [
    "res = f.Ford_Falkerson(img, g)\n",
    "plt.imshow(np.reshape(res, shape), cmap='gray')"
   ]
  },
  {
   "cell_type": "code",
   "execution_count": 9,
   "metadata": {},
   "outputs": [
    {
     "data": {
      "text/plain": [
       "<matplotlib.image.AxesImage at 0x21027e72430>"
      ]
     },
     "execution_count": 9,
     "metadata": {},
     "output_type": "execute_result"
    },
    {
     "data": {
      "image/png": "[encoded data removed]",
      "text/plain": [
       "<Figure size 432x288 with 1 Axes>"
      ]
     },
     "metadata": {
      "needs_background": "light"
     },
     "output_type": "display_data"
    }
   ],
   "source": [
    "labeling = f.translate_to_labeling(res, labeling, a_i)\n",
    "plt.imshow(np.reshape(labeling, shape), cmap='gray')"
   ]
  },
  {
   "cell_type": "code",
   "execution_count": 10,
   "metadata": {},
   "outputs": [
    {
     "data": {
      "text/plain": [
       "<matplotlib.image.AxesImage at 0x21027cb14f0>"
      ]
     },
     "execution_count": 10,
     "metadata": {},
     "output_type": "execute_result"
    },
    {
     "data": {
      "image/png": "[encoded data removed]",
      "text/plain": [
       "<Figure size 432x288 with 1 Axes>"
      ]
     },
     "metadata": {
      "needs_background": "light"
     },
     "output_type": "display_data"
    }
   ],
   "source": [
    "plt.imshow(np.reshape(k_init, shape), cmap='gray')"
   ]
  },
  {
   "cell_type": "code",
   "execution_count": 11,
   "metadata": {},
   "outputs": [
    {
     "data": {
      "text/plain": [
       "((258,), (256,))"
      ]
     },
     "execution_count": 11,
     "metadata": {},
     "output_type": "execute_result"
    }
   ],
   "source": [
    "Vsize = 16*16\n",
    "o = np.zeros(Vsize+2)\n",
    "im = np.zeros(Vsize)\n",
    "o.shape, im.shape"
   ]
  },
  {
   "cell_type": "code",
   "execution_count": 12,
   "metadata": {},
   "outputs": [
    {
     "data": {
      "text/plain": [
       "257"
      ]
     },
     "execution_count": 12,
     "metadata": {},
     "output_type": "execute_result"
    }
   ],
   "source": [
    "Vsize+1"
   ]
  },
  {
   "cell_type": "code",
   "execution_count": 13,
   "metadata": {},
   "outputs": [
    {
     "data": {
      "text/plain": [
       "0.0"
      ]
     },
     "execution_count": 13,
     "metadata": {},
     "output_type": "execute_result"
    }
   ],
   "source": [
    "o[Vsize+1]"
   ]
  },
  {
   "cell_type": "markdown",
   "metadata": {},
   "source": [
    "labeling = np.copy(k_init)\n",
    "for repeats in tqdm(range(repeats)):\n",
    "    \n",
    "    # Shuffle\n",
    "    a_shuffle = np.copy(C)\n",
    "    shuffle(a_shuffle)\n",
    "    \n",
    "    for i in range(a_shuffle.size):\n",
    "\n",
    "        # a_i\n",
    "        a_i = a_shuffle[i]\n",
    "        \n",
    "        # g init\n",
    "        g = init_g2(img, labeling, a_i, scale=100)\n",
    "        print(i)\n",
    "        \n",
    "        # Ford-Falkerson\n",
    "        res = f.Ford_Falkerson(img, g)\n",
    "        labeling = f.translate_to_labeling(res, labeling, a_i)"
   ]
  }
 ],
 "metadata": {
  "kernelspec": {
   "display_name": "Python 3",
   "language": "python",
   "name": "python3"
  },
  "language_info": {
   "codemirror_mode": {
    "name": "ipython",
    "version": 3
   },
   "file_extension": ".py",
   "mimetype": "text/x-python",
   "name": "python",
   "nbconvert_exporter": "python",
   "pygments_lexer": "ipython3",
   "version": "3.8.0"
  }
 },
 "nbformat": 4,
 "nbformat_minor": 4
}
